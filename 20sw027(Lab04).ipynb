{
  "nbformat": 4,
  "nbformat_minor": 0,
  "metadata": {
    "colab": {
      "provenance": [],
      "authorship_tag": "ABX9TyMLXK4gdGupPRhtl6MGdhbM",
      "include_colab_link": true
    },
    "kernelspec": {
      "name": "python3",
      "display_name": "Python 3"
    },
    "language_info": {
      "name": "python"
    }
  },
  "cells": [
    {
      "cell_type": "markdown",
      "metadata": {
        "id": "view-in-github",
        "colab_type": "text"
      },
      "source": [
        "<a href=\"https://colab.research.google.com/github/Kashaf-Abdullah/20sw027_DSA_LAB/blob/main/20sw027(Lab04).ipynb\" target=\"_parent\"><img src=\"https://colab.research.google.com/assets/colab-badge.svg\" alt=\"Open In Colab\"/></a>"
      ]
    },
    {
      "cell_type": "code",
      "execution_count": 1,
      "metadata": {
        "colab": {
          "base_uri": "https://localhost:8080/"
        },
        "id": "u9CgZQviVnB8",
        "outputId": "2391326b-19ce-4587-e59e-8d22bee2a061"
      },
      "outputs": [
        {
          "output_type": "stream",
          "name": "stdout",
          "text": [
            "[[ 2  4  6  8]\n",
            " [10 12 14 16]\n",
            " [18 20 22 24]\n",
            " [26 28 30 32]]\n"
          ]
        }
      ],
      "source": [
        "#TASK01\n",
        "import numpy as np\n",
        "even_numbers = np.arange(2, 33, 2)\n",
        "X = even_numbers.reshape(4, 4)\n",
        "print(X)"
      ]
    },
    {
      "cell_type": "code",
      "source": [
        "#TASK02\n",
        "import numpy as np\n",
        "X = np.arange(1, 26).reshape(5, 5)\n",
        "Y = X[X % 2 != 0]\n",
        "\n",
        "print(X)\n",
        "print(Y)"
      ],
      "metadata": {
        "colab": {
          "base_uri": "https://localhost:8080/"
        },
        "id": "qUBxgMGlWTqv",
        "outputId": "38fb08e9-5b4f-442b-8889-f3d7b04d82e7"
      },
      "execution_count": 2,
      "outputs": [
        {
          "output_type": "stream",
          "name": "stdout",
          "text": [
            "[[ 1  2  3  4  5]\n",
            " [ 6  7  8  9 10]\n",
            " [11 12 13 14 15]\n",
            " [16 17 18 19 20]\n",
            " [21 22 23 24 25]]\n",
            "[ 1  3  5  7  9 11 13 15 17 19 21 23 25]\n"
          ]
        }
      ]
    },
    {
      "cell_type": "code",
      "source": [
        "import numpy as np\n",
        "column_values = np.arange(1, 5).reshape(-1, 1)\n",
        "X = column_values * np.ones((4, 4))\n",
        "print(X)"
      ],
      "metadata": {
        "id": "Bluwme3HWmWD"
      },
      "execution_count": null,
      "outputs": []
    },
    {
      "cell_type": "code",
      "source": [
        "#task-4\n",
        "from google.colab import drive\n",
        "drive.mount('/NumPy.ipnyb')\n",
        "\n",
        "import numpy as np\n",
        "\n",
        "# Create a 1000x20 ndarray with random integers in the range [0, 5001)\n",
        "X = np.random.randint(0, 5001, size=(1000, 20))\n",
        "# Print the shape of X\n",
        "print(X.shape)\n",
        "\n",
        "# Calculate the average of the values in each column of X\n",
        "ave_cols = np.mean(X, axis=0)\n",
        "\n",
        "# Calculate the standard deviation of the values in each column of X\n",
        "std_cols = np.std(X, axis=0)\n",
        "\n",
        "\n",
        "print(\"Shape of ave_cols:\", ave_cols.shape)\n",
        "print(\"Shape of std_cols:\", std_cols.shape)\n",
        "\n",
        "# Mean normalize X\n",
        "X_norm = (X - ave_cols) / std_cols\n",
        "\n",
        "print(\"Mean normalized X:\")\n",
        "print(X_norm)\n",
        "\n",
        "# Print the average of all the values of X_norm\n",
        "ave_all_values = np.mean(X_norm)\n",
        "print(\"Average of all values in X_norm:\", ave_all_values)\n",
        "\n",
        "# Print the average of the minimum value in each column of X_norm\n",
        "ave_min_values = np.mean(np.min(X_norm, axis=0))\n",
        "print(\"Average of minimum values in each column of X_norm:\", ave_min_values)\n",
        "\n",
        "# Print the average of the maximum value in each column of X_norm\n",
        "ave_max_values = np.mean(np.max(X_norm, axis=0))\n",
        "print(\"Average of maximum values in each column of X_norm:\", ave_max_values)\n",
        "\n",
        "# We create a random permutation of integers 0 to 4\n",
        "np.random.permutation(5)\n",
        "\n",
        "# Create a random permutation of row indices of X_norm\n",
        "row_indices = np.random.permutation(X_norm.shape[0])\n",
        "\n",
        "print(\"Random permutation of row indices:\", row_indices)\n",
        "\n",
        "\n",
        "# Define the ratios for training, cross-validation, and test sets\n",
        "train_ratio = 0.6\n",
        "cross_val_ratio = 0.2\n",
        "test_ratio = 0.2\n",
        "\n",
        "# Calculate the sizes of each set based on the ratios\n",
        "num_rows = X_norm.shape[0]\n",
        "num_train = int(train_ratio * num_rows)\n",
        "num_cross_val = int(cross_val_ratio * num_rows)\n",
        "num_test = int(test_ratio * num_rows)\n",
        "\n",
        "# Use row_indices to split the data into sets\n",
        "X_train = X_norm[row_indices[:num_train]]\n",
        "X_crossVal = X_norm[row_indices[num_train:num_train + num_cross_val]]\n",
        "X_test = X_norm[row_indices[num_train + num_cross_val:]]\n",
        "\n",
        "print(\"X_train shape:\", X_train.shape)\n",
        "print(\"X_crossVal shape:\", X_crossVal.shape)\n",
        "print(\"X_test shape:\", X_test.shape)"
      ],
      "metadata": {
        "colab": {
          "base_uri": "https://localhost:8080/"
        },
        "id": "2JHxHFicYYRb",
        "outputId": "052890cd-1026-4df6-e93d-1cfeb4af6b6d"
      },
      "execution_count": 4,
      "outputs": [
        {
          "output_type": "stream",
          "name": "stdout",
          "text": [
            "Drive already mounted at /NumPy.ipnyb; to attempt to forcibly remount, call drive.mount(\"/NumPy.ipnyb\", force_remount=True).\n",
            "(1000, 20)\n",
            "Shape of ave_cols: (20,)\n",
            "Shape of std_cols: (20,)\n",
            "Mean normalized X:\n",
            "[[-0.11347096 -1.24603467  0.27946389 ... -0.55497981 -0.89355604\n",
            "   1.43632793]\n",
            " [-1.1797294   0.02587821  0.84625782 ... -0.13679722 -1.37535854\n",
            "  -1.29197932]\n",
            " [-0.4813613   0.45540945  1.47123971 ... -0.52515804  0.15034938\n",
            "  -0.51829057]\n",
            " ...\n",
            " [ 1.43637968  0.52143772 -0.97193665 ...  0.61755809 -1.69442834\n",
            "   1.40590585]\n",
            " [ 0.20315029 -1.16263055 -0.1996889  ... -1.05246121  0.52555841\n",
            "   0.8230465 ]\n",
            " [-0.01439691 -0.6337094   0.82614346 ... -1.4726771  -0.13176801\n",
            "  -1.55056698]]\n",
            "Average of all values in X_norm: 1.7053025658242403e-17\n",
            "Average of minimum values in each column of X_norm: -1.741530519638863\n",
            "Average of maximum values in each column of X_norm: 1.7354500041557919\n",
            "Random permutation of row indices: [194 612  64 893 945 839 644 478 784 450 777 537 966 182 973 695 420 150\n",
            " 282 928 504 432  46 376  94 339 184 438 982 172 249 101 856 791 482 508\n",
            "  15 414 454 745 778 729 160 567 844 780 305 912 825 727 229 559 986 255\n",
            " 491 463 978   3 572 485 889 333 497 950 303 316  79 439 776 300 489 952\n",
            " 506  10 115 267  24 589 215 639 971 400 179 108  97 770 103  68 979 610\n",
            " 532 204 170 758 198 208 604 223 772 840 833 628  90 616 419 397 922 284\n",
            " 609 445 417 975 403  75 290 795 666 670 607  86 850 164 183  67 796 720\n",
            " 949   8 605 266 372 807  23 714 318 929 114 717 674 816 737 584 887 542\n",
            "  27 200 531   2 752 236 663 786  98 381 393 831 254 842 704 188 494 329\n",
            " 549 136 473 479 315  28 768 845 456 408 630 191 733 308  71 705 970 635\n",
            " 836 496 369 854 721 248 903 388 174 680 145 433 881 474 514 909 946 599\n",
            " 306  52 175 651 159 990 138 425 131 141 358 775 271 562 163 826 217 401\n",
            " 462 939 213 124 356 871 139 679 683 653 669 771 819 507 805 275 490 790\n",
            " 220 694  45 260 800 458 960 696 625 976 834 942  92 521  77 658 363 539\n",
            "  72 762 798 615 793 603 575 558  39 534 389 268 734 598 199 218  55 466\n",
            "  41 585 853 331 269  57 280  26 989 730 110 235  62 837 956 137 992 687\n",
            " 386 116 885 518 908 352 803 818 106 396 927 405 117 877 925 591 402  83\n",
            "  22 178 804 875 860 394 520 824 247 741 528 522 211 988 590 351 841 757\n",
            "  82 821 243 430 999 917 962 214  53 600 551 643 130 894 409 552 538 517\n",
            "  60 384 638 624 640 981  49  59 637 140 321 738 678 655 754 863 152 583\n",
            " 560 749 161 326 645 153 233 613 611  96 509 169  32 879 154 302 716 691\n",
            " 753 685 335 348 501 299 495 686 399   5 424 288 334 448 366 461 993 357\n",
            "  30 493 595 812 547 143   7 985 472 128 378 935 273 230 715 689 634 544\n",
            "  18 370 923  50 488 426 536 765 240 173 320 706 619 516 436 371 642 480\n",
            " 855 129 693  81 957  20 185 104 431 934 672 313 309 304 226  36 359 641\n",
            " 924 148 512 554 701  47 355 292 919 632 529 134 671 972 382 580 231 587\n",
            " 915 779  74 541 904 279 453 898 540  88 121 718 647 451 410 660  35 571\n",
            " 144 460 360  43 954 883 561 959 181 676 513 151  33 270 176  66 407 225\n",
            "  76 921 649 192 505 203 707 132 503 457 237 891 766 656 168 391 742 278\n",
            " 724 492 250 876 238 808 276 374 602 311 662 930 582 202 963 354 809 336\n",
            " 452 636 861 627 597 155 367   9 648 387 684 905  11 594 548 555  17 285\n",
            "  51 586 406 120 264 622 980 901 900 614  91 557 296  16 926 411 344 723\n",
            "  12 162 748 608 500 996 601 815 997 429 681 459 487 940 428 286 565 739\n",
            " 892 846 449 755 899 156 700 810 578 177 593 974  61 525 395 902 340  87\n",
            " 977 873 781 190 523 626  95 688 913 764   4 443 955 281 241 858 158 726\n",
            " 794 920 256 576 470 769 847  58 510 760 377 746 932 251 722 731 274 682\n",
            " 882 418 216  99 349 884 526 848 958 205 416 413 650  78 936 667 442 994\n",
            " 455 886 914 332 265 728 564   1 661 347 197 782  80 907 533 375 896 258\n",
            "  93 261 383 118 862 244 147 125 906 832 239 646 323 967 465   6 869 353\n",
            " 221 785 588 498 207 710 709 257 783 345 874 983  29 511  56 743  19 319\n",
            "  84 277 126 272 421 596 712 294 941 441 725 789 735 581 943 702 872 761\n",
            " 736 368 759  44 252 865  40 210 699 953 476 415 298 341 113  31 888 234\n",
            " 412 346 343  70 813 259 822 665 180 802 878 486 829 835 629 995 107 664\n",
            " 711 502 330 987 398 242 379 365 931 657 111 744 964 569 380 404 991 519\n",
            " 246 773  65 157 787 133 806 195 817 698 797 535 740 325 149 201 112 469\n",
            " 165 617 606 820 579 654 287 263 756 362 435  14 373 109 328 668 468 209\n",
            " 828 570 843 227 823 342 951 123 692 289 291 222 675 870 849  37 592 792\n",
            " 105 690 171 127 618 864 543 969 799 577 851 788 212 968 314  54  21 338\n",
            " 434 867 193 206 827  25 527 911 948 944 262 245 475 422 574 801 830 446\n",
            " 467 880 327 102 437 477 189 933 301 767 471 324  89 947 297 186 631  85\n",
            " 444 677 984 763 838 253 447  69 361  38 620 573 166 621 515 852 317 703\n",
            " 423  42 546 774 566 392 232   0 895 937 224 708 910 307 390 122 998 350\n",
            " 868 364 747 440 732 859 750 866 219 146 916 545 337 965 897 857  48  13\n",
            " 568 673 697 427 481 633 524 713  34 484 228 530 310 659 556 814 961 135\n",
            " 938 187  73 550 167 563 464 483 295 751 385 119 283 918 322 553 890 100\n",
            " 142 811 293 312 499 623 652 196 719  63]\n",
            "X_train shape: (600, 20)\n",
            "X_crossVal shape: (200, 20)\n",
            "X_test shape: (200, 20)\n"
          ]
        }
      ]
    }
  ]
}
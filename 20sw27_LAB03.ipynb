{
  "nbformat": 4,
  "nbformat_minor": 0,
  "metadata": {
    "colab": {
      "provenance": [],
      "authorship_tag": "ABX9TyP9eAEwl6QQSFQIGqTh5zlF",
      "include_colab_link": true
    },
    "kernelspec": {
      "name": "python3",
      "display_name": "Python 3"
    },
    "language_info": {
      "name": "python"
    }
  },
  "cells": [
    {
      "cell_type": "markdown",
      "metadata": {
        "id": "view-in-github",
        "colab_type": "text"
      },
      "source": [
        "<a href=\"https://colab.research.google.com/github/Kashaf-Abdullah/20sw027_DSA_LAB2/blob/main/20sw27_LAB03.ipynb\" target=\"_parent\"><img src=\"https://colab.research.google.com/assets/colab-badge.svg\" alt=\"Open In Colab\"/></a>"
      ]
    },
    {
      "cell_type": "code",
      "execution_count": 2,
      "metadata": {
        "colab": {
          "base_uri": "https://localhost:8080/"
        },
        "id": "CZ-ZHLiUveMC",
        "outputId": "7f293988-8522-488f-c584-2d5bef53cc5b"
      },
      "outputs": [
        {
          "output_type": "stream",
          "name": "stdout",
          "text": [
            "20.0\n",
            "20.0\n",
            "-1\n"
          ]
        }
      ],
      "source": [
        "\n",
        "def population_density(population, land_area):\n",
        "    if land_area == 0:\n",
        "        return -1\n",
        "    return population / land_area\n",
        "\n",
        "# Test cases\n",
        "print(population_density(1000, 50))  # Expected output: 20.0\n",
        "print(population_density(500, 25))   # Expected output: 20.0\n",
        "print(population_density(800, 0))\n"
      ]
    },
    {
      "cell_type": "code",
      "source": [
        "def readable_timedelta(days):\n",
        "    weeks = days // 7\n",
        "    remaining_days = days % 7\n",
        "    result = \"\"\n",
        "\n",
        "    if weeks > 0:\n",
        "        result += \"{} week(s)\".format(weeks)\n",
        "        if remaining_days > 0:\n",
        "            result += \" and \"\n",
        "    if remaining_days > 0:\n",
        "        result += \"{} day(s)\".format(remaining_days)\n",
        "\n",
        "    return result\n",
        "\n",
        "# Example usage:\n",
        "print(readable_timedelta(10))\n",
        "print(readable_timedelta(14))\n"
      ],
      "metadata": {
        "colab": {
          "base_uri": "https://localhost:8080/"
        },
        "id": "lPI7hCvJwe-x",
        "outputId": "baa25fb5-1900-493f-8c56-364e1c68fe17"
      },
      "execution_count": 4,
      "outputs": [
        {
          "output_type": "stream",
          "name": "stdout",
          "text": [
            "1 week(s) and 3 day(s)\n",
            "2 week(s)\n"
          ]
        }
      ]
    },
    {
      "cell_type": "code",
      "source": [
        "numbers = [[1, 2, 3], [4, 5, 6], [7, 8, 9]]\n",
        "\n",
        "# Using map() with lambda to calculate the mean of each list in numbers\n",
        "averages = list(map(lambda lst: sum(lst) / len(lst), numbers))\n",
        "\n",
        "print(averages)"
      ],
      "metadata": {
        "colab": {
          "base_uri": "https://localhost:8080/"
        },
        "id": "tsqwvH5yxXRp",
        "outputId": "3fb70d32-9bf8-4e76-8660-a7d168e1c3af"
      },
      "execution_count": 5,
      "outputs": [
        {
          "output_type": "stream",
          "name": "stdout",
          "text": [
            "[2.0, 5.0, 8.0]\n"
          ]
        }
      ]
    },
    {
      "cell_type": "code",
      "source": [
        "numbers = [[34, 63, 88, 71, 29],[90, 78, 51, 27, 45],[63, 37, 85, 46, 22],[51, 22, 34, 11, 18]]\n",
        "#def mean(num_list):\n",
        "mean =lambda num_list:sum(num_list) / len(num_list)\n",
        "averages = list(map(mean, numbers))\n",
        "print(averages)"
      ],
      "metadata": {
        "colab": {
          "base_uri": "https://localhost:8080/"
        },
        "id": "FxeaySn3yaYL",
        "outputId": "936fa4b3-0909-4579-bcc9-cda75b5a0195"
      },
      "execution_count": 10,
      "outputs": [
        {
          "output_type": "stream",
          "name": "stdout",
          "text": [
            "[57.0, 58.2, 50.6, 27.2]\n"
          ]
        }
      ]
    },
    {
      "cell_type": "code",
      "source": [
        "cities = [\"New York City\", \"Los Angeles\", \"Chicago\", \"Mountain View\", \"Denver\", \"Boston\"]\n",
        "is_short= lambda name: len(name) < 10\n",
        "short_cities = list(filter(is_short, cities))\n",
        "print(short_cities)"
      ],
      "metadata": {
        "colab": {
          "base_uri": "https://localhost:8080/"
        },
        "id": "pF8eNvNcz5-1",
        "outputId": "f9fb7a99-dee4-4834-92b0-ea2dc94a77dc"
      },
      "execution_count": 12,
      "outputs": [
        {
          "output_type": "stream",
          "name": "stdout",
          "text": [
            "['Chicago', 'Denver', 'Boston']\n"
          ]
        }
      ]
    },
    {
      "cell_type": "code",
      "source": [
        "# Get and process input for a list of names\n",
        "names_input = input(\"Enter a list of names separated by commas: \")\n",
        "names = names_input.split(',')\n",
        "\n",
        "# Get and process input for a list of the number of assignments\n",
        "assignments_input = input(\"Enter a list of the number of missing assignments separated by commas: \")\n",
        "assignments = list(map(int, assignments_input.split(',')))\n",
        "\n",
        "# Get and process input for a list of grades\n",
        "grades_input = input(\"Enter a list of grades separated by commas: \")\n",
        "grades = list(map(float, grades_input.split(',')))\n",
        "\n",
        "# Message string to be used for each student\n",
        "# HINT: use .format() with this string in your for loop\n",
        "message = \"Hi {},\\n\\nThis is a reminder that you have {} assignments left to submit before you can graduate. Your current grade is {} and can increase to {} if you submit all assignments before the due date.\\n\\n\"\n",
        "\n",
        "# Write a for loop that iterates through each set of names, assignments, and grades to print each student's message\n",
        "for name, assignment_count, grade in zip(names, assignments, grades):\n",
        "    potential_grade = grade + 2 * assignment_count\n",
        "    print(message.format(name, assignment_count, grade, potential_grade))"
      ],
      "metadata": {
        "id": "bnusV1Fj1KCf"
      },
      "execution_count": null,
      "outputs": []
    },
    {
      "cell_type": "code",
      "source": [
        "file_content = \"\"\"We're the knights of the round table\n",
        "We dance whenever we're able\"\"\"\n",
        "with open(\"camelot.txt\", \"w\") as f:\n",
        "    f.write(file_content)\n",
        "\n",
        "# Opening the file in read mode\n",
        "with open(\"camelot.txt\", \"r\") as f:\n",
        "    # Reading the first 10 characters\n",
        "    first_10_chars = f.read(10)\n",
        "    print(\"First 10 characters:\")\n",
        "    print(first_10_chars)\n",
        "\n",
        "    # Reading the next 15 characters from the current position\n",
        "    next_15_chars = f.read(15)\n",
        "    print(\"\\nNext 15 characters:\")\n",
        "    print(next_15_chars)\n",
        "\n",
        "    # Reading the remaining content of the file from the current position\n",
        "    rest_of_the_file = f.read()\n",
        "    print(\"\\nRest of the file:\")\n",
        "    print(rest_of_the_file)"
      ],
      "metadata": {
        "id": "LCe5e6EJBkTT"
      },
      "execution_count": null,
      "outputs": []
    },
    {
      "cell_type": "code",
      "source": [
        "def create_cast_list(filename):\n",
        "    cast_list = []\n",
        "    with open(filename, 'r') as file:\n",
        "        for line in file:\n",
        "            actor_name, _ = line.strip().split(',', 1)\n",
        "            cast_list.append(actor_name)\n",
        "    return cast_list\n",
        "\n",
        "cast_list = create_cast_list('flying_circus_cast.txt')\n",
        "for actor in cast_list:\n",
        "    print(actor)"
      ],
      "metadata": {
        "id": "qR2P8cVXCyMh"
      },
      "execution_count": null,
      "outputs": []
    },
    {
      "cell_type": "markdown",
      "source": [],
      "metadata": {
        "id": "CPPoGe4TCV8O"
      }
    }
  ]
}
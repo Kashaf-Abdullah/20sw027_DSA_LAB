{
  "nbformat": 4,
  "nbformat_minor": 0,
  "metadata": {
    "colab": {
      "provenance": [],
      "authorship_tag": "ABX9TyPs0gdV/x1yJa4cNQrCXw3/",
      "include_colab_link": true
    },
    "kernelspec": {
      "name": "python3",
      "display_name": "Python 3"
    },
    "language_info": {
      "name": "python"
    }
  },
  "cells": [
    {
      "cell_type": "markdown",
      "metadata": {
        "id": "view-in-github",
        "colab_type": "text"
      },
      "source": [
        "<a href=\"https://colab.research.google.com/github/Kashaf-Abdullah/20sw027_DSA_LAB/blob/main/LAB11.ipynb\" target=\"_parent\"><img src=\"https://colab.research.google.com/assets/colab-badge.svg\" alt=\"Open In Colab\"/></a>"
      ]
    },
    {
      "cell_type": "code",
      "execution_count": 1,
      "metadata": {
        "id": "mK6C076ZZold"
      },
      "outputs": [],
      "source": [
        "\n",
        "import pandas as pd\n",
        "import numpy as np\n",
        "from sklearn.feature_extraction.text import TfidfVectorizer\n",
        "from sklearn.cluster import KMeans\n",
        "import helper"
      ]
    },
    {
      "cell_type": "code",
      "source": [
        "\n",
        "df=pd.read_csv(\"/movies.csv\")\n",
        "\n",
        "df.isnull().sum()"
      ],
      "metadata": {
        "id": "_iYMYEi8aTrg"
      },
      "execution_count": null,
      "outputs": []
    },
    {
      "cell_type": "code",
      "source": [
        "comedy_fantasy_movies = df[df['genres'].str.contains('Comedy') & df['genres'].str.contains('Fantasy')]\n"
      ],
      "metadata": {
        "id": "LyJCXdo3aYvM"
      },
      "execution_count": null,
      "outputs": []
    },
    {
      "cell_type": "code",
      "source": [
        "comedy_fantasy_movies = pd.get_dummies(comedy_fantasy_movies, columns=['genres'])\n"
      ],
      "metadata": {
        "id": "j7m6BZH9ad5C"
      },
      "execution_count": null,
      "outputs": []
    },
    {
      "cell_type": "code",
      "source": [
        "movie_titles = comedy_fantasy_movies['title'].tolist()"
      ],
      "metadata": {
        "id": "HtfrmZv7agmG"
      },
      "execution_count": null,
      "outputs": []
    },
    {
      "cell_type": "code",
      "source": [
        "from sklearn.preprocessing import StandardScaler\n",
        "tfidf_vectorizer = TfidfVectorizer(max_features=1000, stop_words='english')\n",
        "tfidf_matrix = tfidf_vectorizer.fit_transform(movie_titles)\n",
        "\n",
        ""
      ],
      "metadata": {
        "id": "0Kf85wYtaq2H"
      },
      "execution_count": null,
      "outputs": []
    },
    {
      "cell_type": "code",
      "source": [
        "\n",
        "k = 3\n",
        "kmeans = KMeans(n_clusters=k)\n",
        "kmeans.fit(tfidf_matrix)\n",
        ""
      ],
      "metadata": {
        "id": "o3c76S35asdh"
      },
      "execution_count": null,
      "outputs": []
    },
    {
      "cell_type": "code",
      "source": [
        "\n",
        "\n",
        "comedy_fantasy_movies['cluster'] = kmeans.labels_\n",
        "\n",
        "\n",
        "\n",
        "# Print movies in each cluster\n",
        "for cluster_num in range(k):\n",
        "    cluster_movies = comedy_fantasy_movies[comedy_fantasy_movies['cluster'] == cluster_num]\n",
        "    print(f\"Cluster {cluster_num + 1}:\")\n",
        "    print(cluster_movies['title'].tolist())"
      ],
      "metadata": {
        "id": "z_IvJJTwawp1"
      },
      "execution_count": null,
      "outputs": []
    }
  ]
}
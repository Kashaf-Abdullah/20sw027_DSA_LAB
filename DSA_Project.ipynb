{
  "nbformat": 4,
  "nbformat_minor": 0,
  "metadata": {
    "colab": {
      "provenance": [],
      "authorship_tag": "ABX9TyNrgkYT+C4Yc95YC7sIU8+8",
      "include_colab_link": true
    },
    "kernelspec": {
      "name": "python3",
      "display_name": "Python 3"
    },
    "language_info": {
      "name": "python"
    }
  },
  "cells": [
    {
      "cell_type": "markdown",
      "metadata": {
        "id": "view-in-github",
        "colab_type": "text"
      },
      "source": [
        "<a href=\"https://colab.research.google.com/github/Kashaf-Abdullah/20sw027_DSA_LAB/blob/main/DSA_Project.ipynb\" target=\"_parent\"><img src=\"https://colab.research.google.com/assets/colab-badge.svg\" alt=\"Open In Colab\"/></a>"
      ]
    },
    {
      "cell_type": "code",
      "execution_count": null,
      "metadata": {
        "colab": {
          "base_uri": "https://localhost:8080/"
        },
        "id": "0ALQkXhvW8oi",
        "outputId": "27c7b12e-648a-4735-cad4-20736a1667d1"
      },
      "outputs": [
        {
          "output_type": "stream",
          "name": "stdout",
          "text": [
            "         asin           name  rating               date  verified  \\\n",
            "0  B0000SX2UC          Janet       3   October 11, 2005     False   \n",
            "1  B0000SX2UC     Luke Wyatt       1    January 7, 2004     False   \n",
            "2  B0000SX2UC         Brooke       5  December 30, 2003     False   \n",
            "3  B0000SX2UC  amy m. teague       3     March 18, 2004     False   \n",
            "4  B0000SX2UC  tristazbimmer       4    August 28, 2005     False   \n",
            "\n",
            "                                          title  \\\n",
            "0                   Def not best, but not worst   \n",
            "1                   Text Messaging Doesn't Work   \n",
            "2                               Love This Phone   \n",
            "3                       Love the Phone, BUT...!   \n",
            "4  Great phone service and options, lousy case!   \n",
            "\n",
            "                                                body  helpfulVotes  \n",
            "0  I had the Samsung A600 for awhile which is abs...           1.0  \n",
            "1  Due to a software issue between Nokia and Spri...          17.0  \n",
            "2  This is a great, reliable phone. I also purcha...           5.0  \n",
            "3  I love the phone and all, because I really did...           1.0  \n",
            "4  The phone has been great for every purpose it ...           1.0  \n",
            "<class 'pandas.core.frame.DataFrame'>\n",
            "RangeIndex: 43932 entries, 0 to 43931\n",
            "Data columns (total 8 columns):\n",
            " #   Column        Non-Null Count  Dtype  \n",
            "---  ------        --------------  -----  \n",
            " 0   asin          43932 non-null  object \n",
            " 1   name          43931 non-null  object \n",
            " 2   rating        43932 non-null  int64  \n",
            " 3   date          43932 non-null  object \n",
            " 4   verified      43932 non-null  bool   \n",
            " 5   title         43927 non-null  object \n",
            " 6   body          43920 non-null  object \n",
            " 7   helpfulVotes  17312 non-null  float64\n",
            "dtypes: bool(1), float64(1), int64(1), object(5)\n",
            "memory usage: 2.4+ MB\n",
            "None\n",
            "             rating  helpfulVotes\n",
            "count  43932.000000  17312.000000\n",
            "mean       3.677775      7.300312\n",
            "std        1.630030     28.713002\n",
            "min        1.000000      1.000000\n",
            "25%        2.000000      1.000000\n",
            "50%        5.000000      2.000000\n",
            "75%        5.000000      4.000000\n",
            "max        5.000000    990.000000\n"
          ]
        }
      ],
      "source": [
        "import pandas as pd\n",
        "\n",
        "# Load the dataset (replace 'dataset.csv' with the actual file path)\n",
        "df = pd.read_csv('amazon.csv')\n",
        "\n",
        "# Get an overview of the dataset\n",
        "print(df.head())  # Display the first few rows\n",
        "print(df.info())  # Display data types and non-null counts\n",
        "print(df.describe())  # Display summary statistics\n"
      ]
    },
    {
      "cell_type": "code",
      "source": [
        "# Get the column names\n",
        "column_names = df.columns\n",
        "\n",
        "# Display the column names\n",
        "print(column_names)"
      ],
      "metadata": {
        "colab": {
          "base_uri": "https://localhost:8080/"
        },
        "id": "mleJVXF1oNpe",
        "outputId": "1e45d0f4-2a2c-4598-a819-03e1c608f1c2"
      },
      "execution_count": null,
      "outputs": [
        {
          "output_type": "stream",
          "name": "stdout",
          "text": [
            "Index(['asin', 'name', 'rating', 'date', 'verified', 'title', 'body',\n",
            "       'helpfulVotes'],\n",
            "      dtype='object')\n"
          ]
        }
      ]
    },
    {
      "cell_type": "markdown",
      "source": [
        "DATA CLEANING\n"
      ],
      "metadata": {
        "id": "zCVZlKoRoxEG"
      }
    },
    {
      "cell_type": "code",
      "source": [
        "\n",
        "# Handling missing values\n",
        "df.dropna(subset=['name', 'rating', 'date', 'verified'], inplace=True)\n",
        "\n",
        "# Remove duplicate rows based on all columns\n",
        "df.drop_duplicates(inplace=True)\n",
        "\n",
        "# Reset the index after removing rows\n",
        "df.reset_index(drop=True, inplace=True)\n",
        "\n",
        "# Display the cleaned DataFrame\n",
        "print(df.head())"
      ],
      "metadata": {
        "colab": {
          "base_uri": "https://localhost:8080/"
        },
        "id": "yqVVBYqXfjoo",
        "outputId": "b6e60483-9e93-45c6-bc59-faf0efd30088"
      },
      "execution_count": null,
      "outputs": [
        {
          "output_type": "stream",
          "name": "stdout",
          "text": [
            "         asin           name  rating               date  verified  \\\n",
            "0  B0000SX2UC          Janet       3   October 11, 2005     False   \n",
            "1  B0000SX2UC     Luke Wyatt       1    January 7, 2004     False   \n",
            "2  B0000SX2UC         Brooke       5  December 30, 2003     False   \n",
            "3  B0000SX2UC  amy m. teague       3     March 18, 2004     False   \n",
            "4  B0000SX2UC  tristazbimmer       4    August 28, 2005     False   \n",
            "\n",
            "                                          title  \\\n",
            "0                   Def not best, but not worst   \n",
            "1                   Text Messaging Doesn't Work   \n",
            "2                               Love This Phone   \n",
            "3                       Love the Phone, BUT...!   \n",
            "4  Great phone service and options, lousy case!   \n",
            "\n",
            "                                                body  helpfulVotes  \n",
            "0  I had the Samsung A600 for awhile which is abs...           1.0  \n",
            "1  Due to a software issue between Nokia and Spri...          17.0  \n",
            "2  This is a great, reliable phone. I also purcha...           5.0  \n",
            "3  I love the phone and all, because I really did...           1.0  \n",
            "4  The phone has been great for every purpose it ...           1.0  \n"
          ]
        }
      ]
    },
    {
      "cell_type": "markdown",
      "source": [
        "DATA EXTRACTION\n"
      ],
      "metadata": {
        "id": "u1AnGnGwpFJp"
      }
    },
    {
      "cell_type": "code",
      "source": [
        "# Extract data based on specific conditions or criteria\n",
        "\n",
        "# Extract rows where 'rating' is greater than or equal to 4\n",
        "high_rating_df = df[df['rating'] >= 4]\n",
        "\n",
        "# Extract rows where 'verified' is True\n",
        "verified_reviews_df = df[df['verified']]\n",
        "\n",
        "# Extract rows where 'helpfulVotes' is greater than 10\n",
        "helpful_reviews_df = df[df['helpfulVotes'] > 10]\n",
        "\n",
        "# Extract rows where 'title' contains a specific keyword (e.g., 'interesting')\n",
        "keyword = 'interesting'\n",
        "keyword_reviews_df = df[df['title'].str.contains(keyword, case=False, na=False)]\n",
        "\n",
        "# Display the extracted DataFrames\n",
        "print(\"High Rating Reviews:\")\n",
        "print(high_rating_df.head())\n",
        "\n",
        "print(\"\\nVerified Reviews:\")\n",
        "print(verified_reviews_df.head())\n",
        "\n",
        "print(\"\\nHelpful Reviews:\")\n",
        "print(helpful_reviews_df.head())\n",
        "\n",
        "print(\"\\nReviews with Keyword 'interesting':\")\n",
        "print(keyword_reviews_df.head())\n"
      ],
      "metadata": {
        "colab": {
          "base_uri": "https://localhost:8080/"
        },
        "id": "wuzJbjT-pDB5",
        "outputId": "69d3b123-d816-4b83-f071-bbfd37ad5a05"
      },
      "execution_count": null,
      "outputs": [
        {
          "output_type": "stream",
          "name": "stdout",
          "text": [
            "High Rating Reviews:\n",
            "         asin                        name  rating               date  \\\n",
            "2  B0000SX2UC                      Brooke       5  December 30, 2003   \n",
            "4  B0000SX2UC               tristazbimmer       4    August 28, 2005   \n",
            "5  B0000SX2UC  the cell phone store owner       5     April 16, 2004   \n",
            "6  B0000SX2UC                        Matt       4      April 3, 2004   \n",
            "7  B0000SX2UC                Charles Cook       5  November 24, 2003   \n",
            "\n",
            "   verified                                         title  \\\n",
            "2     False                               Love This Phone   \n",
            "4     False  Great phone service and options, lousy case!   \n",
            "5     False           Wanna cool Nokia? You have it here!   \n",
            "6     False          Problem with 3588i universal headset   \n",
            "7     False                            cool phone!!!!!!!!   \n",
            "\n",
            "                                                body  helpfulVotes  \n",
            "2  This is a great, reliable phone. I also purcha...           5.0  \n",
            "4  The phone has been great for every purpose it ...           1.0  \n",
            "5  Cool. Cheap. Color: 3 words that describe the ...           2.0  \n",
            "6  The 3599i is overall a nice phone, except that...           2.0  \n",
            "7  I've never owned a Nokia phone before, so this...           7.0  \n",
            "\n",
            "Verified Reviews:\n",
            "          asin                 name  rating               date  verified  \\\n",
            "13  B001AO4OUC            Elizabeth       4       May 12, 2009      True   \n",
            "14  B001AO4OUC  Ron Malinowski, Jr.       1  November 19, 2012      True   \n",
            "15  B001AO4OUC                PENNY       4  November 25, 2012      True   \n",
            "16  B001AO4OUC  Anthony L. Savarese       1   October 18, 2009      True   \n",
            "25  B001DCJAJG      Kindle Customer       4      June 22, 2014      True   \n",
            "\n",
            "                                         title  \\\n",
            "13                          tough little phone   \n",
            "14  Boost Mobile no Longer allows IDEN service   \n",
            "15                                    SIM CARD   \n",
            "16                                        Cell   \n",
            "25                    Good phone...good price.   \n",
            "\n",
            "                                                 body  helpfulVotes  \n",
            "13  This phone isn't kidding when it says military...           1.0  \n",
            "14  I bought this phone and found out IDEN phones ...           2.0  \n",
            "15  PHONE DID NOT COME WITH A SIM CARD....INFORMAT...           1.0  \n",
            "16  Wouldn't know anything about the cell phone I ...           1.0  \n",
            "25  This was a replacement for the one my mom had ...           2.0  \n",
            "\n",
            "Helpful Reviews:\n",
            "          asin            name  rating             date  verified  \\\n",
            "1   B0000SX2UC      Luke Wyatt       1  January 7, 2004     False   \n",
            "19  B001AO4OUC           Butch       5  August 13, 2009     False   \n",
            "34  B0029F2O3A        John Doe       4     July 9, 2009     False   \n",
            "37  B0029F2O3A    The Wild Bat       3    July 10, 2009     False   \n",
            "43  B0029F2O3A  Karen S. Baird       5    June 11, 2009     False   \n",
            "\n",
            "                          title  \\\n",
            "1   Text Messaging Doesn't Work   \n",
            "19                  Great phone   \n",
            "34                  Solid Phone   \n",
            "37  resets when receiving calls   \n",
            "43                    excellent   \n",
            "\n",
            "                                                 body  helpfulVotes  \n",
            "1   Due to a software issue between Nokia and Spri...          17.0  \n",
            "19  This phone is awesome. I have one through Boos...          12.0  \n",
            "34  Just recently got this phone as a replacement ...          22.0  \n",
            "37  The messaging features are nice. Typing text m...          12.0  \n",
            "43  This is a excellent phone great talk time, exc...          11.0  \n",
            "\n",
            "Reviews with Keyword 'interesting':\n",
            "Empty DataFrame\n",
            "Columns: [asin, name, rating, date, verified, title, body, helpfulVotes]\n",
            "Index: []\n"
          ]
        }
      ]
    },
    {
      "cell_type": "markdown",
      "source": [
        "FEATURE ENGINEERING\n"
      ],
      "metadata": {
        "id": "k_DRtdUsqT01"
      }
    },
    {
      "cell_type": "code",
      "source": [
        "# Date Feature:\n",
        "# Extract year, month, day, or day of the week from the 'date' column to create new temporal features.\n",
        "df['year'] = pd.to_datetime(df['date']).dt.year\n",
        "df['month'] = pd.to_datetime(df['date']).dt.month\n",
        "df['day'] = pd.to_datetime(df['date']).dt.day\n",
        "df['day_of_week'] = pd.to_datetime(df['date']).dt.dayofweek\n"
      ],
      "metadata": {
        "id": "n1a9UPV1qVzK"
      },
      "execution_count": null,
      "outputs": []
    },
    {
      "cell_type": "code",
      "source": [
        "# Text Length:\n",
        "# Calculate the length of the 'body' or 'title' text to create a feature indicating the length of the review.\n",
        "\n",
        "df['body_length'] = df['body'].apply(len)\n",
        "df['title_length'] = df['title'].apply(len)\n"
      ],
      "metadata": {
        "id": "fKXrFWBYqhhw"
      },
      "execution_count": null,
      "outputs": []
    },
    {
      "cell_type": "code",
      "source": [
        "# Review Sentiment:\n",
        "# You can use natural language processing techniques to analyze the sentiment of the 'body' or 'title' text and create sentiment features.\n",
        "\n",
        "\n",
        "from textblob import TextBlob\n",
        "\n",
        "df['body_sentiment'] = df['body'].apply(lambda x: TextBlob(x).sentiment.polarity)\n",
        "df['title_sentiment'] = df['title'].apply(lambda x: TextBlob(x).sentiment.polarity)\n"
      ],
      "metadata": {
        "id": "L3gmO0S4qpWw"
      },
      "execution_count": null,
      "outputs": []
    },
    {
      "cell_type": "code",
      "source": [
        "# Interaction Features:\n",
        "# Create interaction features between existing columns. For example, you can multiply 'rating' by 'helpfulVotes' to capture the interaction between these two features.\n",
        "\n",
        "df['rating_helpful_interaction'] = df['rating'] * df['helpfulVotes']\n"
      ],
      "metadata": {
        "id": "yldoTJ1_qrIj"
      },
      "execution_count": null,
      "outputs": []
    },
    {
      "cell_type": "code",
      "source": [
        "# Aggregated Features:\n",
        "# Compute aggregated statistics for each product or user. For example, calculate the average rating for each product.\n",
        "\n",
        "product_avg_rating = df.groupby('asin')['rating'].mean().reset_index()\n",
        "product_avg_rating.rename(columns={'rating': 'avg_rating_per_product'}, inplace=True)\n",
        "df = df.merge(product_avg_rating, on='asin', how='left')\n"
      ],
      "metadata": {
        "id": "EHIoAdvGq9Ny"
      },
      "execution_count": null,
      "outputs": []
    },
    {
      "cell_type": "code",
      "source": [],
      "metadata": {
        "id": "BKEpbC8suMd7"
      },
      "execution_count": null,
      "outputs": []
    },
    {
      "cell_type": "code",
      "source": [],
      "metadata": {
        "id": "gLyJZz0EuRYw"
      },
      "execution_count": null,
      "outputs": []
    },
    {
      "cell_type": "markdown",
      "source": [],
      "metadata": {
        "id": "cuGrWoI9uSyj"
      }
    }
  ]
}
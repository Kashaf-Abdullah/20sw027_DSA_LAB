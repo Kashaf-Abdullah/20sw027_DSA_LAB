{
  "nbformat": 4,
  "nbformat_minor": 0,
  "metadata": {
    "colab": {
      "provenance": [],
      "authorship_tag": "ABX9TyOCHUl3dn1HuSGg7Wg0BLz4",
      "include_colab_link": true
    },
    "kernelspec": {
      "name": "python3",
      "display_name": "Python 3"
    },
    "language_info": {
      "name": "python"
    }
  },
  "cells": [
    {
      "cell_type": "markdown",
      "metadata": {
        "id": "view-in-github",
        "colab_type": "text"
      },
      "source": [
        "<a href=\"https://colab.research.google.com/github/Kashaf-Abdullah/20sw027_DSA_LAB2/blob/main/20SW027(LAB02).ipynb\" target=\"_parent\"><img src=\"https://colab.research.google.com/assets/colab-badge.svg\" alt=\"Open In Colab\"/></a>"
      ]
    },
    {
      "cell_type": "code",
      "execution_count": 1,
      "metadata": {
        "colab": {
          "base_uri": "https://localhost:8080/"
        },
        "id": "GFO-eKHrATIF",
        "outputId": "83d1b723-1d3e-4f73-b638-c16ce0458e3b"
      },
      "outputs": [
        {
          "output_type": "stream",
          "name": "stdout",
          "text": [
            "8\n",
            "Congratulations!!!! Wooden rabbit\n"
          ]
        }
      ],
      "source": [
        "#TASK1\n",
        "prize = int(input())\n",
        "\n",
        "if prize >= 1 and prize <= 50:\n",
        "    print('Congratulations!!!! Wooden rabbit')\n",
        "elif prize > 50 and prize <= 150:\n",
        "    print('Try it againnn!!!! No prize')\n",
        "elif prize > 150 and prize <= 180:\n",
        "    print('Congratulations!!!! Wafer-thin mint')\n",
        "elif prize > 180 and prize <= 200:\n",
        "    print('Congratulations!!!! Penguin')\n",
        "else:\n",
        "    print('Ooh dear!!! No prize this time')"
      ]
    },
    {
      "cell_type": "code",
      "source": [
        "#TASK 02\n",
        "answer = 42\n",
        "\n",
        "\n",
        "guess = int(input(\"Enter your guess: \"))\n",
        "\n",
        "\n",
        "if guess < answer:\n",
        "    print(\"Your guess is too low.\")\n",
        "elif guess > answer:\n",
        "    print(\"Your guess is too high.\")\n",
        "else:\n",
        "    print(\"Congratulations! Your guess is correct!\")"
      ],
      "metadata": {
        "colab": {
          "base_uri": "https://localhost:8080/"
        },
        "id": "YT2CfWvGAyF6",
        "outputId": "1297f285-dcf3-4c34-cc99-c58bb3cfc589"
      },
      "execution_count": 2,
      "outputs": [
        {
          "output_type": "stream",
          "name": "stdout",
          "text": [
            "Enter your guess: 67\n",
            "Your guess is too high.\n"
          ]
        }
      ]
    },
    {
      "cell_type": "code",
      "source": [
        "#TASK 03\n",
        "def calculate_tax(purchase_amount, state):\n",
        "    # Define tax rates for different states\n",
        "    tax_rates = {\n",
        "        'CA': 0.075,\n",
        "        'MN': 0.095,\n",
        "        'NY': 0.089\n",
        "    }\n",
        "\n",
        "    # Check if the state is in the tax_rates dictionary\n",
        "    if state in tax_rates:\n",
        "        tax_rate = tax_rates[state]\n",
        "        tax_amount = purchase_amount * tax_rate\n",
        "        total_amount = purchase_amount + tax_amount\n",
        "        print(f\"Purchase amount: ${purchase_amount:.2f}\")\n",
        "        print(f\"Tax rate in {state}: {tax_rate * 100:.1f}%\")\n",
        "        print(f\"Tax amount: ${tax_amount:.2f}\")\n",
        "        print(f\"Total amount after tax: ${total_amount:.2f}\")\n",
        "    else:\n",
        "        print(\"Invalid state. Please enter a valid state code (CA, MN, or NY).\")\n",
        "\n",
        "# Take user input for purchase amount and state\n",
        "purchase_amount = float(input(\"Enter the purchase amount: $\"))\n",
        "state = input(\"Enter your state (CA, MN, or NY): \")\n",
        "\n",
        "# Call the function to calculate tax\n",
        "calculate_tax(purchase_amount, state)"
      ],
      "metadata": {
        "id": "jw1HamYDBDxn"
      },
      "execution_count": null,
      "outputs": []
    },
    {
      "cell_type": "code",
      "source": [
        "#TASK 04\n",
        "my_list = [1, 2, 3, 4, 5]\n",
        "\n",
        "\n",
        "for element in my_list:\n",
        "    print(element)"
      ],
      "metadata": {
        "colab": {
          "base_uri": "https://localhost:8080/"
        },
        "id": "eo_t71sWBKYG",
        "outputId": "9cc48e42-ad3e-4b9d-9549-051ebc16d828"
      },
      "execution_count": 3,
      "outputs": [
        {
          "output_type": "stream",
          "name": "stdout",
          "text": [
            "1\n",
            "2\n",
            "3\n",
            "4\n",
            "5\n"
          ]
        }
      ]
    },
    {
      "cell_type": "code",
      "source": [
        "#TASK05\n",
        "for number in range(5, 31, 5):\n",
        "    print(number)"
      ],
      "metadata": {
        "colab": {
          "base_uri": "https://localhost:8080/"
        },
        "id": "7psX2u5NBep_",
        "outputId": "2ab7fa2a-8b49-4f6e-cfe8-7015e1fff00e"
      },
      "execution_count": 4,
      "outputs": [
        {
          "output_type": "stream",
          "name": "stdout",
          "text": [
            "5\n",
            "10\n",
            "15\n",
            "20\n",
            "25\n",
            "30\n"
          ]
        }
      ]
    },
    {
      "cell_type": "code",
      "source": [
        "\n",
        "#TASK 06\n",
        "names = [\"John Doe\", \"Alice Smith\", \"Mike Johnson\", \"Emma Brown\"]\n",
        "\n",
        "\n",
        "first_names = [name.split()[0].lower() for name in names]\n",
        "\n",
        "\n",
        "print(first_names)"
      ],
      "metadata": {
        "colab": {
          "base_uri": "https://localhost:8080/"
        },
        "id": "-jGCla6XBpl9",
        "outputId": "fe789a04-d592-4839-e726-bc5e7b5c5dbe"
      },
      "execution_count": 5,
      "outputs": [
        {
          "output_type": "stream",
          "name": "stdout",
          "text": [
            "['john', 'alice', 'mike', 'emma']\n"
          ]
        }
      ]
    },
    {
      "cell_type": "code",
      "source": [
        "#TASK 07\n",
        "multiples_3 = [num * 3 for num in range(1, 21)]\n",
        "print(multiples_3)"
      ],
      "metadata": {
        "colab": {
          "base_uri": "https://localhost:8080/"
        },
        "id": "bJYDF0IOC26I",
        "outputId": "6bb06888-a639-493b-9b1e-7303f3e22e7f"
      },
      "execution_count": 6,
      "outputs": [
        {
          "output_type": "stream",
          "name": "stdout",
          "text": [
            "[3, 6, 9, 12, 15, 18, 21, 24, 27, 30, 33, 36, 39, 42, 45, 48, 51, 54, 57, 60]\n"
          ]
        }
      ]
    },
    {
      "cell_type": "code",
      "source": [
        "#TASK 08\n",
        "scores = {\"Rick Sanchez\": 70, \"Morty Smith\": 35, \"Summer Smith\": 82, \"Jerry Smith\": 23, \"Beth Smith\": 98}\n",
        "passed = [name for name, score in scores.items() if score >= 65]\n",
        "print(passed)"
      ],
      "metadata": {
        "id": "6kWNWWFbDJHW"
      },
      "execution_count": null,
      "outputs": []
    },
    {
      "cell_type": "code",
      "source": [
        "#TASK 09\n",
        "names = [\"Alice\", \"Bob\", \"Charlie\", \"David\", \"Eva\"]\n",
        "heights = [165, 180, 175, 170, 160]\n",
        "\n",
        "cast = dict(zip(names, heights))\n",
        "\n",
        "print(cast)"
      ],
      "metadata": {
        "id": "_0kpk1bwCISX"
      },
      "execution_count": null,
      "outputs": []
    },
    {
      "cell_type": "code",
      "source": [
        "#TASK 10\n",
        "cast = {'Alice': 165, 'Bob': 180, 'Charlie': 175, 'David': 170, 'Eva': 160}\n",
        "\n",
        "modified_cast = [name + str(height) for name, height in cast.items()]\n",
        "\n",
        "print(modified_cast)"
      ],
      "metadata": {
        "id": "g7u5Noo4CTFz"
      },
      "execution_count": null,
      "outputs": []
    }
  ]
}
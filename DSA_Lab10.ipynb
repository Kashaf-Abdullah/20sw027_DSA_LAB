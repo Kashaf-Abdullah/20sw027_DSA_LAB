{
  "nbformat": 4,
  "nbformat_minor": 0,
  "metadata": {
    "colab": {
      "provenance": [],
      "authorship_tag": "ABX9TyMgxMjW+1X0OAjGOFhKc8Gk",
      "include_colab_link": true
    },
    "kernelspec": {
      "name": "python3",
      "display_name": "Python 3"
    },
    "language_info": {
      "name": "python"
    }
  },
  "cells": [
    {
      "cell_type": "markdown",
      "metadata": {
        "id": "view-in-github",
        "colab_type": "text"
      },
      "source": [
        "<a href=\"https://colab.research.google.com/github/Kashaf-Abdullah/20sw027_DSA_LAB/blob/main/DSA_Lab10.ipynb\" target=\"_parent\"><img src=\"https://colab.research.google.com/assets/colab-badge.svg\" alt=\"Open In Colab\"/></a>"
      ]
    },
    {
      "cell_type": "code",
      "execution_count": 1,
      "metadata": {
        "id": "D3fhz_4ioemg"
      },
      "outputs": [],
      "source": [
        "import pandas as pd\n",
        "import numpy as np\n",
        "from sklearn.model_selection import train_test_split\n",
        "from sklearn.tree import DecisionTreeClassifier\n",
        "from sklearn.naive_bayes import GaussianNB\n",
        "from sklearn.metrics import accuracy_score, confusion_matrix, classification_report\n"
      ]
    },
    {
      "cell_type": "code",
      "source": [
        "data = pd.read_csv(\"/content/PS_20174392719_1491204439457_log.csv\")\n",
        "\n",
        "# Drop unnecessary columns if needed\n",
        "data = data.drop(['nameOrig', 'nameDest'], axis=1)\n",
        "\n",
        "# Split the data into features and target\n",
        "X = data.drop(\"isFraud\", axis=1)\n",
        "y = data[\"isFraud\"]\n",
        "\n",
        "# Split the dataset into training and testing sets\n",
        "X_train, X_test, y_train, y_test = train_test_split(X, y, test_size=0.2, random_state=42)\n"
      ],
      "metadata": {
        "id": "80aypT7Nr-Gx"
      },
      "execution_count": 2,
      "outputs": []
    },
    {
      "cell_type": "code",
      "source": [
        "# Create and train the Decision Tree classifier\n",
        "dt_classifier = DecisionTreeClassifier(random_state=42)\n",
        "dt_classifier.fit(X_train, y_train)\n",
        "\n",
        "# Make predictions\n",
        "dt_predictions = dt_classifier.predict(X_test)\n",
        "\n",
        "# Evaluate the Decision Tree classifier\n",
        "dt_accuracy = accuracy_score(y_test, dt_predictions)\n",
        "dt_confusion_matrix = confusion_matrix(y_test, dt_predictions)\n",
        "dt_classification_report = classification_report(y_test, dt_predictions)\n",
        "\n",
        "print(\"Decision Tree Classifier Performance:\")\n",
        "print(f\"Accuracy: {dt_accuracy}\")\n",
        "print(\"Confusion Matrix:\")\n",
        "print(dt_confusion_matrix)\n",
        "print(\"Classification Report:\")\n",
        "print(dt_classification_report)\n"
      ],
      "metadata": {
        "id": "lFM9ZCF7saLA"
      },
      "execution_count": null,
      "outputs": []
    },
    {
      "cell_type": "code",
      "source": [
        "# Create and train the Naive Bayes classifier\n",
        "nb_classifier = GaussianNB()\n",
        "nb_classifier.fit(X_train, y_train)\n",
        "\n",
        "# Make predictions\n",
        "nb_predictions = nb_classifier.predict(X_test)\n",
        "\n",
        "# Evaluate the Naive Bayes classifier\n",
        "nb_accuracy = accuracy_score(y_test, nb_predictions)\n",
        "nb_confusion_matrix = confusion_matrix(y_test, nb_predictions)\n",
        "nb_classification_report = classification_report(y_test, nb_predictions)\n",
        "\n",
        "print(\"\\nNaive Bayes Classifier Performance:\")\n",
        "print(f\"Accuracy: {nb_accuracy}\")\n",
        "print(\"Confusion Matrix:\")\n",
        "print(nb_confusion_matrix)\n",
        "print(\"Classification Report:\")\n",
        "print(nb_classification_report)\n"
      ],
      "metadata": {
        "id": "-7gncdoOscVe"
      },
      "execution_count": null,
      "outputs": []
    }
  ]
}